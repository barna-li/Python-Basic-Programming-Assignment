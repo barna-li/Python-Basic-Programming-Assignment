{
 "cells": [
  {
   "cell_type": "markdown",
   "metadata": {},
   "source": [
    "## 1. Write a Python Program to Display Fibonacci Sequence Using Recursion?\n"
   ]
  },
  {
   "cell_type": "code",
   "execution_count": 1,
   "metadata": {},
   "outputs": [
    {
     "name": "stdout",
     "output_type": "stream",
     "text": [
      "Fibonacci sequence:\n",
      "0\n",
      "1\n",
      "1\n",
      "2\n",
      "3\n",
      "5\n",
      "8\n",
      "13\n",
      "21\n",
      "34\n"
     ]
    }
   ],
   "source": [
    "def recur_fibo(n):\n",
    "   if n <= 1:\n",
    "       return n\n",
    "   else:\n",
    "       return(recur_fibo(n-1) + recur_fibo(n-2))\n",
    "\n",
    "nterms = 10\n",
    "\n",
    "# check if the number of terms is valid\n",
    "if nterms <= 0:\n",
    "   print(\"Plese enter a positive integer\")\n",
    "else:\n",
    "   print(\"Fibonacci sequence:\")\n",
    "   for i in range(nterms):\n",
    "       print(recur_fibo(i))"
   ]
  },
  {
   "cell_type": "markdown",
   "metadata": {},
   "source": [
    "## 2. Write a Python Program to Find Factorial of Number Using Recursion?\n"
   ]
  },
  {
   "cell_type": "code",
   "execution_count": 2,
   "metadata": {},
   "outputs": [
    {
     "name": "stdout",
     "output_type": "stream",
     "text": [
      "Enter number :4\n",
      "Factorial of 4 is 24\n"
     ]
    }
   ],
   "source": [
    "# Recursion means when a function is calling itself\n",
    "num = int(input(\"Enter number :\"))\n",
    "def fac(num):\n",
    "    if num== 0 or num ==1:\n",
    "        return 1\n",
    "    \n",
    "    else:\n",
    "        return num * fac(num-1)\n",
    "    \n",
    "fac(num)\n",
    "print(\"Factorial of\",num,\"is\",fac(num))"
   ]
  },
  {
   "cell_type": "markdown",
   "metadata": {},
   "source": [
    "## 3. Write a Python Program to calculate your Body Mass Index?"
   ]
  },
  {
   "cell_type": "code",
   "execution_count": 3,
   "metadata": {},
   "outputs": [
    {
     "name": "stdout",
     "output_type": "stream",
     "text": [
      "Enter weight in kg:63\n",
      "Enter height in cm:157.48\n",
      "THE BODY MASS INDEX IS: 25.403276613004838\n",
      "You are Overweight\n"
     ]
    }
   ],
   "source": [
    "weight = float(input(\"Enter weight in kg:\"))\n",
    "height= float(input(\"Enter height in cm:\"))\n",
    "BMI =  weight / (height/100)**2\n",
    "print(\"THE BODY MASS INDEX IS:\",BMI)\n",
    "\n",
    "if BMI<=18.5:\n",
    "    print(\"You are Underweight\")\n",
    "elif BMI<=24.9:\n",
    "    print(\"You are Normal Weight\")\n",
    "elif BMI<=29.9:\n",
    "    print(\"You are Overweight\")\n",
    "else:\n",
    "    print(\"Obese\")"
   ]
  },
  {
   "cell_type": "markdown",
   "metadata": {},
   "source": [
    "## 4. Write a Python Program to calculate the natural logarithm of any number?\n"
   ]
  },
  {
   "cell_type": "code",
   "execution_count": 4,
   "metadata": {},
   "outputs": [
    {
     "name": "stdout",
     "output_type": "stream",
     "text": [
      "2.302585092994046\n"
     ]
    }
   ],
   "source": [
    "#Import the math package then call math.log() function passing the number to compute to get its natural logarithm.\n",
    "import math\n",
    "k = math.log(10)\n",
    "print(k)"
   ]
  },
  {
   "cell_type": "markdown",
   "metadata": {},
   "source": [
    "\n",
    "## 5. Write a Python Program for cube sum of first n natural numbers?"
   ]
  },
  {
   "cell_type": "code",
   "execution_count": 5,
   "metadata": {},
   "outputs": [
    {
     "name": "stdout",
     "output_type": "stream",
     "text": [
      "Enter the natural number: 5\n",
      "Sum of cubes of first five numbers = 225\n"
     ]
    }
   ],
   "source": [
    "# Natural numbers are positve integers that start from 1 go infinity.\n",
    "n = int(input(\"Enter the natural number: \"))\n",
    "sum=0\n",
    "for i in range(1,n+1):\n",
    "        sum = sum+i*i*i\n",
    "print(\"Sum of cubes of first five numbers =\",sum)"
   ]
  }
 ],
 "metadata": {
  "kernelspec": {
   "display_name": "Python 3",
   "language": "python",
   "name": "python3"
  },
  "language_info": {
   "codemirror_mode": {
    "name": "ipython",
    "version": 3
   },
   "file_extension": ".py",
   "mimetype": "text/x-python",
   "name": "python",
   "nbconvert_exporter": "python",
   "pygments_lexer": "ipython3",
   "version": "3.8.3"
  }
 },
 "nbformat": 4,
 "nbformat_minor": 4
}
