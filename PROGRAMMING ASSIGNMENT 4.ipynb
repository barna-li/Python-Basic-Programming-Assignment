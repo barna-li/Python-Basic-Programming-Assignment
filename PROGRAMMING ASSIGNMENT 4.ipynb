{
 "cells": [
  {
   "cell_type": "markdown",
   "metadata": {},
   "source": [
    "## 1. Write a Python Program to Find the Factorial of a Number?\n"
   ]
  },
  {
   "cell_type": "code",
   "execution_count": 2,
   "metadata": {},
   "outputs": [
    {
     "name": "stdout",
     "output_type": "stream",
     "text": [
      "Enter a num: 4\n",
      "Factorial of 4 is 24\n"
     ]
    }
   ],
   "source": [
    "num = int(input(\"Enter a num: \"))\n",
    "\n",
    "factorial = 1\n",
    "\n",
    "if num<0:\n",
    "    print(\"Factorial doesn't exist for negative numbers\")\n",
    "elif num ==0:\n",
    "    print(\"Factorial of 0 is 1\")\n",
    "    \n",
    "else:\n",
    "    for i in range(1,num+1):\n",
    "        factorial = factorial*i\n",
    "        \n",
    "    print(\"Factorial of\",num,\"is\",factorial)\n",
    "    "
   ]
  },
  {
   "cell_type": "markdown",
   "metadata": {},
   "source": [
    "\n",
    "## 2. Write a Python Program to Display the multiplication Table?\n"
   ]
  },
  {
   "cell_type": "code",
   "execution_count": 3,
   "metadata": {},
   "outputs": [
    {
     "name": "stdout",
     "output_type": "stream",
     "text": [
      "Enter any Number  :5\n",
      "5  *  1  =  5\n",
      "5  *  2  =  10\n",
      "5  *  3  =  15\n",
      "5  *  4  =  20\n",
      "5  *  5  =  25\n",
      "5  *  6  =  30\n",
      "5  *  7  =  35\n",
      "5  *  8  =  40\n",
      "5  *  9  =  45\n",
      "5  *  10  =  50\n"
     ]
    }
   ],
   "source": [
    "n = int(input(\"Enter any Number  :\"))\n",
    "\n",
    "for i in range(1,11):\n",
    " value = n * i\n",
    " print(n,\" * \",i,\" = \",value)"
   ]
  },
  {
   "cell_type": "markdown",
   "metadata": {},
   "source": [
    "\n",
    "## 3. Write a Python Program to Print the Fibonacci sequence?\n"
   ]
  },
  {
   "cell_type": "code",
   "execution_count": 11,
   "metadata": {},
   "outputs": [
    {
     "data": {
      "text/plain": [
       "[1, 1, 2, 3, 5, 8, 13, 21, 34, 55]"
      ]
     },
     "execution_count": 11,
     "metadata": {},
     "output_type": "execute_result"
    }
   ],
   "source": [
    "def fib(n):\n",
    "    a= 1\n",
    "    b= 1\n",
    "    l =[]\n",
    "    for i in range(n):\n",
    "        l.append(a)\n",
    "        a,b =b, a+b\n",
    "    return l\n",
    "        \n",
    "fib(10)"
   ]
  },
  {
   "cell_type": "markdown",
   "metadata": {},
   "source": [
    "\n",
    "## 4. Write a Python Program to Check Armstrong Number?\n"
   ]
  },
  {
   "cell_type": "code",
   "execution_count": 4,
   "metadata": {},
   "outputs": [
    {
     "name": "stdout",
     "output_type": "stream",
     "text": [
      "Enter the number:153\n",
      "Its an Armstrong number\n"
     ]
    }
   ],
   "source": [
    "#An armstrong number is the sum of the power of its digits.\n",
    "#eg: 153 (has 3 digits so to power of 3) = 1*1*1 + 5*5*5 + 3*3*3\n",
    "num = int(input(\"Enter the number:\"))\n",
    "m = num\n",
    "SUM =0\n",
    "while num>0:\n",
    "    digit = num%10\n",
    "    SUM = SUM + digit*digit*digit\n",
    "    num = num//10\n",
    "if SUM ==m:\n",
    "    print(\"Its an Armstrong number\")\n",
    "else:\n",
    "    print(\"Its not an Armstrong number\")\n"
   ]
  },
  {
   "cell_type": "markdown",
   "metadata": {},
   "source": [
    "## 5. Write a Python Program to Find Armstrong Number in an Interval?\n"
   ]
  },
  {
   "cell_type": "code",
   "execution_count": 6,
   "metadata": {},
   "outputs": [
    {
     "name": "stdout",
     "output_type": "stream",
     "text": [
      "Enter Lower Bound:1\n",
      "Enter Upper Bound:1000\n",
      "1\n",
      "153\n",
      "370\n",
      "371\n",
      "407\n"
     ]
    }
   ],
   "source": [
    "lower_bound= int(input(\"Enter Lower Bound:\"))\n",
    "upper_bound= int(input(\"Enter Upper Bound:\"))\n",
    "for num in range(lower_bound,upper_bound+1):\n",
    "    m = num\n",
    "    SUM=0\n",
    "    while num>0:\n",
    "        digit = num%10\n",
    "        SUM = SUM+digit*digit*digit\n",
    "        num = num//10\n",
    "    if SUM ==m:\n",
    "        print(SUM)\n",
    "        "
   ]
  }
 ],
 "metadata": {
  "kernelspec": {
   "display_name": "Python 3",
   "language": "python",
   "name": "python3"
  },
  "language_info": {
   "codemirror_mode": {
    "name": "ipython",
    "version": 3
   },
   "file_extension": ".py",
   "mimetype": "text/x-python",
   "name": "python",
   "nbconvert_exporter": "python",
   "pygments_lexer": "ipython3",
   "version": "3.8.3"
  }
 },
 "nbformat": 4,
 "nbformat_minor": 4
}
