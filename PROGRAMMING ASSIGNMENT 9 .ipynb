{
 "cells": [
  {
   "cell_type": "markdown",
   "metadata": {},
   "source": [
    "Q1 = Write a Python program to check if the given number is a Disarium Number?"
   ]
  },
  {
   "cell_type": "code",
   "execution_count": 1,
   "metadata": {},
   "outputs": [
    {
     "name": "stdin",
     "output_type": "stream",
     "text": [
      "enter a number 56\n"
     ]
    },
    {
     "name": "stdout",
     "output_type": "stream",
     "text": [
      "number is not Disarium\n"
     ]
    }
   ],
   "source": [
    "num = int(input(\"enter a number\"))\n",
    "i = num\n",
    "result = 0\n",
    "n = len(str(i))\n",
    "while(i>0):\n",
    "    digit = i%10\n",
    "    result = result+digit**n\n",
    "    i = i//10\n",
    "    n = n-1\n",
    "if num == result:\n",
    "    print(num)\n",
    "else:\n",
    "    print(\"number is not Disarium\")"
   ]
  },
  {
   "cell_type": "markdown",
   "metadata": {},
   "source": [
    "Q2 = Write a python program to print all disarium number in between  1 to 100?"
   ]
  },
  {
   "cell_type": "code",
   "execution_count": 2,
   "metadata": {},
   "outputs": [
    {
     "name": "stdout",
     "output_type": "stream",
     "text": [
      "1\n",
      "2\n",
      "3\n",
      "4\n",
      "5\n",
      "6\n",
      "7\n",
      "8\n",
      "9\n",
      "89\n"
     ]
    }
   ],
   "source": [
    "for i in range(1,100):\n",
    "    num = i\n",
    "    result = 0\n",
    "    n = len(str(i))\n",
    "    while(num>0):\n",
    "        digit = num%10\n",
    "        result = result + digit**n\n",
    "        num = num//10\n",
    "        n= n-1\n",
    "    if i == result:\n",
    "        print(i)\n",
    "        "
   ]
  },
  {
   "cell_type": "markdown",
   "metadata": {},
   "source": [
    "Q3 = Write a Python program to check if the given number is a Happy Number?"
   ]
  },
  {
   "cell_type": "code",
   "execution_count": 3,
   "metadata": {},
   "outputs": [
    {
     "name": "stdin",
     "output_type": "stream",
     "text": [
      "enter a number : 19\n"
     ]
    },
    {
     "name": "stdout",
     "output_type": "stream",
     "text": [
      "the number is being checked\n",
      "number is happy number\n"
     ]
    }
   ],
   "source": [
    "def check_happy_num(num):\n",
    "    digit = result = 0\n",
    "    while(num>0):\n",
    "        digit = num%10\n",
    "        result = result+ (digit*digit)\n",
    "        num = num//10\n",
    "    return result\n",
    "num = int(input(\"enter a number :\"))\n",
    "result = num\n",
    "\n",
    "while(result !=1 and result != 4):\n",
    "    result = check_happy_num(result)\n",
    "print('the number is being checked')\n",
    "if (result == 1) :\n",
    "    print( 'number is happy number' )\n",
    "elif(result == 4):\n",
    "    print(\"number is not happy number\")"
   ]
  },
  {
   "cell_type": "markdown",
   "metadata": {},
   "source": [
    "Q4 = Write a Python program to print all happy numbers between 1 and 100?"
   ]
  },
  {
   "cell_type": "code",
   "execution_count": 4,
   "metadata": {},
   "outputs": [
    {
     "name": "stdout",
     "output_type": "stream",
     "text": [
      "1\n",
      "7\n",
      "10\n",
      "13\n",
      "19\n",
      "23\n",
      "28\n",
      "31\n",
      "32\n",
      "44\n",
      "49\n",
      "68\n",
      "70\n",
      "79\n",
      "82\n",
      "86\n",
      "91\n",
      "94\n",
      "97\n"
     ]
    }
   ],
   "source": [
    "def check_happy_num(num):\n",
    "    digit = result = 0\n",
    "    while(num>0):\n",
    "        digit = num%10\n",
    "        result = result+ (digit*digit)\n",
    "        num = num//10\n",
    "    return result\n",
    "for i in range(1,100):\n",
    "    result = i\n",
    "    while(result !=1 and result != 4):\n",
    "        result = check_happy_num(result)\n",
    "    if (result == 1) :\n",
    "        print(i)"
   ]
  },
  {
   "cell_type": "markdown",
   "metadata": {},
   "source": [
    "Q5 =Write a Python program to determine whether the given number is a Harshad Number?"
   ]
  },
  {
   "cell_type": "code",
   "execution_count": 5,
   "metadata": {},
   "outputs": [
    {
     "name": "stdin",
     "output_type": "stream",
     "text": [
      "enter a number : 56\n"
     ]
    },
    {
     "name": "stdout",
     "output_type": "stream",
     "text": [
      "number is not harshad number\n"
     ]
    }
   ],
   "source": [
    "num = int(input('enter a number :'))\n",
    "n = num\n",
    "digit = result = 0\n",
    "while(num>0):\n",
    "    digit = num % 10\n",
    "    result = result+digit\n",
    "    num = num//10\n",
    "if (n%10 == 0):\n",
    "    print(\"numner is harshad number\")\n",
    "else: \n",
    "    print('number is not harshad number')"
   ]
  },
  {
   "cell_type": "markdown",
   "metadata": {},
   "source": [
    "Q6 = Write a Python program to print all pronic numbers between 1 and 100?"
   ]
  },
  {
   "cell_type": "code",
   "execution_count": 6,
   "metadata": {},
   "outputs": [
    {
     "name": "stdout",
     "output_type": "stream",
     "text": [
      "2\n",
      "6\n",
      "12\n",
      "20\n",
      "30\n",
      "42\n",
      "56\n",
      "72\n",
      "90\n"
     ]
    }
   ],
   "source": [
    "def pronicnumber(num):\n",
    "    flag  = False\n",
    "    \n",
    "    for j in range(1,num+1):\n",
    "        if(j*(j+1) == num ):\n",
    "            flag = True\n",
    "            break\n",
    "    return flag\n",
    "for i in range(1,100):\n",
    "    if(pronicnumber(i)):\n",
    "        print(i)\n",
    "                \n",
    "            "
   ]
  },
  {
   "cell_type": "code",
   "execution_count": null,
   "metadata": {},
   "outputs": [],
   "source": []
  }
 ],
 "metadata": {
  "kernelspec": {
   "display_name": "Python 3",
   "language": "python",
   "name": "python3"
  },
  "language_info": {
   "codemirror_mode": {
    "name": "ipython",
    "version": 3
   },
   "file_extension": ".py",
   "mimetype": "text/x-python",
   "name": "python",
   "nbconvert_exporter": "python",
   "pygments_lexer": "ipython3",
   "version": "3.8.5"
  }
 },
 "nbformat": 4,
 "nbformat_minor": 4
}
