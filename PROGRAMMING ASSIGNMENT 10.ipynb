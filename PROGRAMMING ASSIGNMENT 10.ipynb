{
 "cells": [
  {
   "cell_type": "markdown",
   "metadata": {},
   "source": [
    "## 1. Write a Python program to find sum of elements in list?\n"
   ]
  },
  {
   "cell_type": "code",
   "execution_count": 2,
   "metadata": {},
   "outputs": [
    {
     "name": "stdout",
     "output_type": "stream",
     "text": [
      "sum of elements in list : 332\n"
     ]
    }
   ],
   "source": [
    "l =[67,77,89,99]\n",
    "print(\"sum of elements in list :\",sum(l))\n"
   ]
  },
  {
   "cell_type": "markdown",
   "metadata": {},
   "source": [
    "## 2. Write a Python program to Multiply all numbers in the list?"
   ]
  },
  {
   "cell_type": "code",
   "execution_count": 3,
   "metadata": {},
   "outputs": [
    {
     "data": {
      "text/plain": [
       "360"
      ]
     },
     "execution_count": 3,
     "metadata": {},
     "output_type": "execute_result"
    }
   ],
   "source": [
    "l =[5,8,9]\n",
    "\n",
    "def mul():\n",
    "    product = 1\n",
    "    for i in l:\n",
    "        product = product*i\n",
    "    return product\n",
    "\n",
    "\n",
    "mul()"
   ]
  },
  {
   "cell_type": "markdown",
   "metadata": {},
   "source": [
    "## 3. Write a Python program to find smallest number in a list?"
   ]
  },
  {
   "cell_type": "code",
   "execution_count": 4,
   "metadata": {},
   "outputs": [
    {
     "data": {
      "text/plain": [
       "10"
      ]
     },
     "execution_count": 4,
     "metadata": {},
     "output_type": "execute_result"
    }
   ],
   "source": [
    "l =[56,89,77,10]\n",
    "min(l)"
   ]
  },
  {
   "cell_type": "markdown",
   "metadata": {},
   "source": [
    "## 4. Write a Python program to find largest number in a list?"
   ]
  },
  {
   "cell_type": "code",
   "execution_count": 5,
   "metadata": {},
   "outputs": [
    {
     "data": {
      "text/plain": [
       "89"
      ]
     },
     "execution_count": 5,
     "metadata": {},
     "output_type": "execute_result"
    }
   ],
   "source": [
    "l =[56,89,77,10]\n",
    "max(l)"
   ]
  },
  {
   "cell_type": "markdown",
   "metadata": {},
   "source": [
    "## 5. Write a Python program to find second largest number in a list?"
   ]
  },
  {
   "cell_type": "code",
   "execution_count": 9,
   "metadata": {},
   "outputs": [
    {
     "name": "stdout",
     "output_type": "stream",
     "text": [
      "The second largest number after 89 is 77\n"
     ]
    }
   ],
   "source": [
    "l =[56,89,77,10]\n",
    "\n",
    "#we get the first max no i.e 89 with max() function then remove the first max number with remove()function\n",
    "l.remove(max(l))\n",
    "\n",
    "#then we print the second largest number with max()function\n",
    "print(\"The second largest number after 89 is\",max(l))\n"
   ]
  },
  {
   "cell_type": "markdown",
   "metadata": {},
   "source": [
    "## 6. Write a Python program to find N largest elements from a list?"
   ]
  },
  {
   "cell_type": "code",
   "execution_count": 10,
   "metadata": {},
   "outputs": [
    {
     "name": "stdout",
     "output_type": "stream",
     "text": [
      "Sorted List: [-45, 100, 200, 700, 800, 900, 1000]\n",
      "N largest elements from list: [700, 800, 900, 1000]\n"
     ]
    }
   ],
   "source": [
    "l = [1000,800,700,100,200,-45,900]\n",
    "  \n",
    "l.sort()\n",
    "print(\"Sorted List:\",l)\n",
    "print(\"N largest elements from list:\",l[-4:])"
   ]
  },
  {
   "cell_type": "markdown",
   "metadata": {},
   "source": [
    "## 7. Write a Python program to print even numbers in a list?"
   ]
  },
  {
   "cell_type": "code",
   "execution_count": 11,
   "metadata": {},
   "outputs": [
    {
     "name": "stdout",
     "output_type": "stream",
     "text": [
      "56\n",
      "10\n",
      "12\n",
      "14\n"
     ]
    }
   ],
   "source": [
    "l =[56,89,77,10,12,14,15]\n",
    "for i in l:\n",
    "    if i%2 ==0:\n",
    "        print(i)"
   ]
  },
  {
   "cell_type": "markdown",
   "metadata": {},
   "source": [
    "## 8. Write a Python program to print odd numbers in a List?"
   ]
  },
  {
   "cell_type": "code",
   "execution_count": 12,
   "metadata": {},
   "outputs": [
    {
     "name": "stdout",
     "output_type": "stream",
     "text": [
      "89\n",
      "77\n",
      "15\n"
     ]
    }
   ],
   "source": [
    "l =[56,89,77,10,12,14,15]\n",
    "for i in l:\n",
    "    if i%2 ==1:\n",
    "        print(i)"
   ]
  },
  {
   "cell_type": "markdown",
   "metadata": {},
   "source": [
    "## 9. Write a Python program to Remove empty List from List?"
   ]
  },
  {
   "cell_type": "code",
   "execution_count": 13,
   "metadata": {},
   "outputs": [
    {
     "name": "stdout",
     "output_type": "stream",
     "text": [
      "THE ORIGINAL LIST [56, 89, [], 77, 10, [], 12, 14, 15]\n",
      "LIST AFTER EMPTY LIST REMOVAL [56, 89, 77, 10, 12, 14, 15]\n"
     ]
    }
   ],
   "source": [
    "#Using the filter() method we filter None values. The none values include empty lists & hence these get removed.\n",
    "l =[56,89,[],77,10,[],12,14,15]\n",
    "\n",
    "res = list(filter(None, l))\n",
    "\n",
    "print(\"THE ORIGINAL LIST\",l)\n",
    "print(\"LIST AFTER EMPTY LIST REMOVAL\",res)"
   ]
  },
  {
   "cell_type": "markdown",
   "metadata": {},
   "source": [
    "## 10. Write a Python program to Cloning or Copying a list?"
   ]
  },
  {
   "cell_type": "code",
   "execution_count": 14,
   "metadata": {},
   "outputs": [
    {
     "data": {
      "text/plain": [
       "[4, 4, 2, 3, 5, 5, 5, 5]"
      ]
     },
     "execution_count": 14,
     "metadata": {},
     "output_type": "execute_result"
    }
   ],
   "source": [
    "l =[4,4,2,3,5,5,5,5]\n",
    "k =[]\n",
    "for i in l:\n",
    "    if type(i)==list or type(i)==int:\n",
    "        k.append(i)\n",
    "\n",
    "k\n"
   ]
  },
  {
   "cell_type": "markdown",
   "metadata": {},
   "source": [
    "## 11. Write a Python program to Count occurrences of an element in a list?"
   ]
  },
  {
   "cell_type": "code",
   "execution_count": 15,
   "metadata": {},
   "outputs": [
    {
     "name": "stdout",
     "output_type": "stream",
     "text": [
      "The number 5 has occured 4 times.\n"
     ]
    }
   ],
   "source": [
    "l =[4,4,2,3,5,5,5,5]\n",
    "x =5\n",
    "s = l.count(x)\n",
    "print(\"The number 5 has occured\",s,\"times.\")"
   ]
  }
 ],
 "metadata": {
  "kernelspec": {
   "display_name": "Python 3",
   "language": "python",
   "name": "python3"
  },
  "language_info": {
   "codemirror_mode": {
    "name": "ipython",
    "version": 3
   },
   "file_extension": ".py",
   "mimetype": "text/x-python",
   "name": "python",
   "nbconvert_exporter": "python",
   "pygments_lexer": "ipython3",
   "version": "3.8.3"
  }
 },
 "nbformat": 4,
 "nbformat_minor": 4
}
