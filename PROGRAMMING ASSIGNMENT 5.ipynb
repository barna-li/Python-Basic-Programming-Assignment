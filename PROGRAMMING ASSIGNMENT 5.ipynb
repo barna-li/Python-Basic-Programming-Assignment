{
 "cells": [
  {
   "cell_type": "markdown",
   "metadata": {},
   "source": [
    "## 1. Write a Python Program to Find LCM?\n"
   ]
  },
  {
   "cell_type": "code",
   "execution_count": 3,
   "metadata": {},
   "outputs": [
    {
     "name": "stdout",
     "output_type": "stream",
     "text": [
      "Enter first number:24\n",
      "Enter second number:18\n",
      "The LCM OF 24 and 18 is 72\n"
     ]
    }
   ],
   "source": [
    "a = int(input(\"Enter first number:\"))\n",
    "b = int(input(\"Enter second number:\"))\n",
    "\n",
    "if a>b:\n",
    "    maxnum = a\n",
    "else:\n",
    "    maxnum =b\n",
    "\n",
    "while(True):\n",
    "    if maxnum%a==0 and maxnum%b==0:\n",
    "        break\n",
    "        \n",
    "    else:\n",
    "        maxnum = maxnum+1\n",
    "        \n",
    "print(\"The LCM OF\",a ,\"and\" ,b, \"is\",maxnum)\n",
    "\n"
   ]
  },
  {
   "cell_type": "markdown",
   "metadata": {},
   "source": [
    "## 2. Write a Python Program to Find HCF?\n"
   ]
  },
  {
   "cell_type": "code",
   "execution_count": 4,
   "metadata": {},
   "outputs": [
    {
     "name": "stdout",
     "output_type": "stream",
     "text": [
      "Enter first number:90\n",
      "Enter second number:30\n",
      "30\n"
     ]
    }
   ],
   "source": [
    "a = int(input(\"Enter first number:\"))\n",
    "b = int(input(\"Enter second number:\"))\n",
    "\n",
    "#Run a while loop until a is not equals to b\n",
    "while a != b:\n",
    "    if a > b:\n",
    "        a = a - b\n",
    "       \n",
    "    else:\n",
    "        b = b - a\n",
    "print(a)"
   ]
  },
  {
   "cell_type": "markdown",
   "metadata": {},
   "source": [
    "## 3. Write a Python Program to Convert Decimal to Binary, Octal and Hexadecimal?"
   ]
  },
  {
   "cell_type": "code",
   "execution_count": 5,
   "metadata": {},
   "outputs": [
    {
     "name": "stdout",
     "output_type": "stream",
     "text": [
      "0b100001 in binary.\n",
      "0o41 in octal.\n",
      "0x21 in hexadecimal.\n"
     ]
    }
   ],
   "source": [
    "# [0b] represents binary(base 0-2)= 0,1\n",
    "# [0o] respresnts octal(base 0-8) = 0,1,2,3,4,5,6,7\n",
    "# [0x]represents hexadecimal(base 0-9 a-f) =0,1,2,3,4,5,6,7,8,9-a-b-c-d-e-f\n",
    "\n",
    "decimal = 33\n",
    "\n",
    "print(bin(decimal),\"in binary.\")\n",
    "print(oct(decimal),\"in octal.\")\n",
    "print(hex(decimal),\"in hexadecimal.\")"
   ]
  },
  {
   "cell_type": "markdown",
   "metadata": {},
   "source": [
    "## 4. Write a Python Program To Find ASCII value of a character?"
   ]
  },
  {
   "cell_type": "code",
   "execution_count": 6,
   "metadata": {},
   "outputs": [
    {
     "name": "stdout",
     "output_type": "stream",
     "text": [
      "Enter Character:$\n",
      "36\n"
     ]
    }
   ],
   "source": [
    "#ASCII is an acronym that stands for American Standard Code for Information Interchange. \n",
    "#A specific numerical value is given to different characters and symbols for computers to store and manipulate in ASCII.\n",
    "\n",
    "e = input(\"Enter Character:\")\n",
    "x = ord(e)\n",
    "print(x)"
   ]
  },
  {
   "cell_type": "markdown",
   "metadata": {},
   "source": [
    "## 5. Write a Python Program to Make a Simple Calculator with 4 basic mathematical operations?"
   ]
  },
  {
   "cell_type": "code",
   "execution_count": 7,
   "metadata": {},
   "outputs": [
    {
     "name": "stdout",
     "output_type": "stream",
     "text": [
      "Enter first number:34\n",
      "Enter second number:2\n",
      "Enter operator: *\n",
      "34 * 2 = 68\n"
     ]
    }
   ],
   "source": [
    "num_1 = int(input(\"Enter first number:\"))\n",
    "num_2 = int(input(\"Enter second number:\"))\n",
    "select = input(\"Enter operator: \")\n",
    "\n",
    "if select== \"+\":\n",
    "    print(num_1, \"+\", num_2, \"=\",num_1 + num_2 )\n",
    "    \n",
    "elif select==\"-\":\n",
    "    print(num_1, \"-\", num_2, \"=\",num_1 - num_2)\n",
    "\n",
    "elif select== \"*\":\n",
    "    print(num_1, \"*\", num_2, \"=\",num_1 * num_2)\n",
    "\n",
    "elif select==\"/\":\n",
    "    print(num_1, \"/\", num_2, \"=\",num_1 / num_2)\n",
    "\n",
    "else:\n",
    "     print(\"Invalid output\")"
   ]
  }
 ],
 "metadata": {
  "kernelspec": {
   "display_name": "Python 3",
   "language": "python",
   "name": "python3"
  },
  "language_info": {
   "codemirror_mode": {
    "name": "ipython",
    "version": 3
   },
   "file_extension": ".py",
   "mimetype": "text/x-python",
   "name": "python",
   "nbconvert_exporter": "python",
   "pygments_lexer": "ipython3",
   "version": "3.8.3"
  }
 },
 "nbformat": 4,
 "nbformat_minor": 4
}
