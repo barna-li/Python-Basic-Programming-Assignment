{
 "cells": [
  {
   "cell_type": "markdown",
   "id": "9f7a851a",
   "metadata": {},
   "source": [
    "Q1 = Define a class with a generator which can iterate the numbers, which are divisible by\n",
    "7, between a given range 0 and n.\n"
   ]
  },
  {
   "cell_type": "code",
   "execution_count": 9,
   "id": "48f53d52",
   "metadata": {},
   "outputs": [
    {
     "name": "stdout",
     "output_type": "stream",
     "text": [
      "0\n",
      "7\n",
      "14\n",
      "21\n",
      "28\n",
      "35\n",
      "42\n",
      "49\n",
      "56\n",
      "63\n",
      "70\n",
      "77\n",
      "84\n",
      "91\n",
      "98\n"
     ]
    }
   ],
   "source": [
    "class iterator:\n",
    "\n",
    "    def __init__(self, n):\n",
    "        self.n = n\n",
    "\n",
    "    def divBySeven(self):\n",
    "        for i in range(0, self.n):\n",
    "            if i % 7 == 0:\n",
    "                yield i\n",
    "\n",
    "for num in iterator(100).divBySeven():\n",
    "    print (num)"
   ]
  },
  {
   "cell_type": "markdown",
   "id": "4f061f4a",
   "metadata": {},
   "source": [
    "Q2 = Write a program to compute the frequency of the words from the input. The output\n",
    "should output after sorting the key alphanumerically"
   ]
  },
  {
   "cell_type": "code",
   "execution_count": 17,
   "id": "b3c5e6af",
   "metadata": {},
   "outputs": [
    {
     "name": "stdout",
     "output_type": "stream",
     "text": [
      "Write word for which you want to check frequency:New to Python or choosing between Python 2 and Python 3? Read Python 2 or Python 3.\n",
      "['2', '3.', '3?', 'New', 'Python', 'Read', 'and', 'between', 'choosing', 'or', 'to']\n",
      "frequency chart:-\n",
      "2:2\n",
      "3.:1\n",
      "3?:1\n",
      "New:1\n",
      "Python:5\n",
      "Read:1\n",
      "and:1\n",
      "between:1\n",
      "choosing:1\n",
      "or:2\n",
      "to:1\n",
      "None\n"
     ]
    }
   ],
   "source": [
    "def check_freq(seq):\n",
    "    dic_words = {}\n",
    "    for word in seq.split():\n",
    "        dic_words[word] = dic_words.get(word,0)+1\n",
    "    word_sorted = list(dic_words.keys())\n",
    "    word_sorted.sort()\n",
    "    print(word_sorted)\n",
    "    print(\"frequency chart:-\")\n",
    "    for i in word_sorted:\n",
    "        print(\"{}:{}\".format(i, dic_words[i]))\n",
    "seq = input(\"Write word for which you want to check frequency:\")\n",
    "print(check_freq(seq))"
   ]
  },
  {
   "cell_type": "markdown",
   "id": "b56385c6",
   "metadata": {},
   "source": [
    "Q3 = Define a class Person and its two child classes: Male and Female. All classes have a\n",
    "method &quot;getGender&quot; which can print &quot;Male&quot; for Male class and &quot;Female&quot; for Female\n",
    "class"
   ]
  },
  {
   "cell_type": "code",
   "execution_count": 23,
   "id": "0ffcfc13",
   "metadata": {},
   "outputs": [
    {
     "name": "stdout",
     "output_type": "stream",
     "text": [
      "Male class : Male\n",
      "Female class : Female\n"
     ]
    }
   ],
   "source": [
    "class Person(object):\n",
    "    def getGender( self ):\n",
    "        return \"Unknown\"\n",
    "\n",
    "class Male( Person ):\n",
    "    def getGender( self ):\n",
    "        return \"Male\"\n",
    "\n",
    "class Female( Person ):\n",
    "    def getGender( self ):\n",
    "        return \"Female\"\n",
    "\n",
    "aMale = Male()\n",
    "aFemale= Female()\n",
    "print( \"Male class :\",aMale.getGender())\n",
    "print( \"Female class :\",aFemale.getGender())"
   ]
  },
  {
   "cell_type": "markdown",
   "id": "ec21fc50",
   "metadata": {},
   "source": [
    "Q4 = Please write a program to generate all sentences where subject is in [&quot;I&quot;, &quot;You&quot;] and\n",
    "verb is in [&quot;Play&quot;, &quot;Love&quot;] and the object is in [&quot;Hockey&quot;,&quot;Football&quot;].\n"
   ]
  },
  {
   "cell_type": "code",
   "execution_count": 24,
   "id": "0c6fb9a4",
   "metadata": {},
   "outputs": [
    {
     "name": "stdout",
     "output_type": "stream",
     "text": [
      "I Play Hockey\n",
      "I Play Football\n",
      "I Love Hockey\n",
      "I Love Football\n",
      "You Play Hockey\n",
      "You Play Football\n",
      "You Love Hockey\n",
      "You Love Football\n"
     ]
    }
   ],
   "source": [
    "subject = [\"I\", \"You\"]\n",
    "verbs = [\"Play\", \"Love\"]\n",
    "obj = [\"Hockey\", \"Football\"]\n",
    "\n",
    "for sub in subject:\n",
    "    for verb in verbs:\n",
    "        for obje in obj:\n",
    "            print(sub + ' ' + verb + \" \" + obje)"
   ]
  },
  {
   "cell_type": "markdown",
   "id": "d811ed7c",
   "metadata": {},
   "source": [
    "Q5 = Please write a program to compress and decompress the string &quot;hello world!hello\n",
    "world!hello world!hello world!&quot;"
   ]
  },
  {
   "cell_type": "code",
   "execution_count": 25,
   "id": "ed09f43d",
   "metadata": {},
   "outputs": [
    {
     "name": "stdout",
     "output_type": "stream",
     "text": [
      "b'x\\x9c\\xcbH\\xcd\\xc9\\xc9W(\\xcf/\\xcaIQ\\xcc \\x82\\r\\x00\\xbd[\\x11\\xf5'\n",
      "b'hello world!hello world!hello world!hello world!'\n"
     ]
    }
   ],
   "source": [
    "import zlib\n",
    "s = 'hello world!hello world!hello world!hello world!'\n",
    "# In Python 3 zlib.compress() accepts only DataType <bytes>\n",
    "y = bytes(s, 'utf-8')\n",
    "x = zlib.compress(y)\n",
    "print(x)\n",
    "print(zlib.decompress(x))"
   ]
  },
  {
   "cell_type": "markdown",
   "id": "f23516f1",
   "metadata": {},
   "source": [
    "Q6 = Please write a binary search function which searches an item in a sorted list. The\n",
    "function should return the index of element to be searched in the list"
   ]
  },
  {
   "cell_type": "code",
   "execution_count": 29,
   "id": "988398ec",
   "metadata": {},
   "outputs": [
    {
     "name": "stdout",
     "output_type": "stream",
     "text": [
      "[2, 3, 4, 5, 6, 8, 9, 21]\n",
      "Enter a key:4\n",
      "4 is found and its index number is 2\n"
     ]
    }
   ],
   "source": [
    "def binary_search(list1,key):\n",
    "    low =0\n",
    "    high = len(list1)-1\n",
    "    found = False\n",
    "    while low<=high and not found:\n",
    "        mid = (low+high)//2\n",
    "        if key == list1[mid]:\n",
    "            found = True\n",
    "        elif key>list1[mid]:\n",
    "            low = mid+1\n",
    "        else:\n",
    "            high = mid-1\n",
    "    if found == True:\n",
    "        print(\"{} is found and its index number is {}\".format(key,mid))\n",
    "    else:\n",
    "        print(\"{} is not found\".format(key))\n",
    "list1 = [5,4,6,3,8,21,9,2]\n",
    "list1.sort()\n",
    "print(list1)\n",
    "key = int(input(\"Enter a key:\"))\n",
    "binary_search(list1,key)"
   ]
  },
  {
   "cell_type": "code",
   "execution_count": null,
   "id": "71a910ee",
   "metadata": {},
   "outputs": [],
   "source": []
  }
 ],
 "metadata": {
  "kernelspec": {
   "display_name": "Python 3",
   "language": "python",
   "name": "python3"
  },
  "language_info": {
   "codemirror_mode": {
    "name": "ipython",
    "version": 3
   },
   "file_extension": ".py",
   "mimetype": "text/x-python",
   "name": "python",
   "nbconvert_exporter": "python",
   "pygments_lexer": "ipython3",
   "version": "3.6.13"
  }
 },
 "nbformat": 4,
 "nbformat_minor": 5
}
