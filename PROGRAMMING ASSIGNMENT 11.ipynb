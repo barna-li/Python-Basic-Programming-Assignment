{
 "cells": [
  {
   "cell_type": "markdown",
   "metadata": {},
   "source": [
    "## 1. Write a Python program to find words which are greater than given length k?"
   ]
  },
  {
   "cell_type": "code",
   "execution_count": 7,
   "metadata": {},
   "outputs": [
    {
     "data": {
      "text/plain": [
       "['always', 'greater']"
      ]
     },
     "execution_count": 7,
     "metadata": {},
     "output_type": "execute_result"
    }
   ],
   "source": [
    "words = \"Grass always looks greater on the other side\"\n",
    "k =5\n",
    "\n",
    "l =[]\n",
    "txt = words.split(\" \")\n",
    "\n",
    "for i in txt:\n",
    "    if len(i)>k:\n",
    "        l.append(i)\n",
    "        \n",
    "        \n",
    "l"
   ]
  },
  {
   "cell_type": "markdown",
   "metadata": {},
   "source": [
    "## 2. Write a Python program for removing i-th character from a string?"
   ]
  },
  {
   "cell_type": "code",
   "execution_count": 8,
   "metadata": {},
   "outputs": [
    {
     "name": "stdout",
     "output_type": "stream",
     "text": [
      "Hell World\n"
     ]
    }
   ],
   "source": [
    "#Using slicing method and concatenation we can remove the i-th character of string\n",
    "\n",
    "old_list= \"Hello World\"\n",
    "\n",
    "new_list = old_list[0:4]+old_list[5:]\n",
    "print(new_list)"
   ]
  },
  {
   "cell_type": "markdown",
   "metadata": {},
   "source": [
    "## 3. Write a Python program to split and join a string?"
   ]
  },
  {
   "cell_type": "code",
   "execution_count": 9,
   "metadata": {},
   "outputs": [
    {
     "data": {
      "text/plain": [
       "'I-t-s- -h-o-l-i-d-a-y- -s-e-a-s-o-n'"
      ]
     },
     "execution_count": 9,
     "metadata": {},
     "output_type": "execute_result"
    }
   ],
   "source": [
    "h = \"Its holiday season\"\n",
    "h.split()\n",
    "\"-\".join(h)"
   ]
  },
  {
   "cell_type": "markdown",
   "metadata": {},
   "source": [
    "## 4. Write a Python to check if a given string is binary string or not?"
   ]
  },
  {
   "cell_type": "code",
   "execution_count": 10,
   "metadata": {},
   "outputs": [
    {
     "name": "stdout",
     "output_type": "stream",
     "text": [
      "Yes the given string is a binary string\n"
     ]
    }
   ],
   "source": [
    "#If a given string has characters which are only 1 or 0 such strings as binary strings. \n",
    "#If it has any other digit like 2 or 3 etc., we classify it as a non-binary string.\n",
    "#Count function gives the number of times the certain character has occured like 0 has occured 4 times, and 1 has occued 4 times.\n",
    "#That equal to the length of the string 8 times.\n",
    "\n",
    "string = \"10101010\"\n",
    "if(string.count('0')+string.count('1')==len(string)):\n",
    "    print(\"Yes the given string is a binary string\")\n",
    "else:\n",
    "    print(\"No the given string is not a binary string\")"
   ]
  },
  {
   "cell_type": "markdown",
   "metadata": {},
   "source": [
    "## 5. Write a Python program to find uncommon words from two Strings?"
   ]
  },
  {
   "cell_type": "code",
   "execution_count": 11,
   "metadata": {},
   "outputs": [
    {
     "name": "stdout",
     "output_type": "stream",
     "text": [
      "['mango', 'kiwi']\n"
     ]
    }
   ],
   "source": [
    "#Using symmetric_difference() function to find uncommon words from two Strings\n",
    "\n",
    "a =\"apple banana mango kiwi\"\n",
    "b =\"apple banana\"\n",
    "a = a.split()\n",
    "b =b.split()\n",
    "k=set(a).symmetric_difference(set(b))\n",
    "print(list(k))"
   ]
  },
  {
   "cell_type": "markdown",
   "metadata": {},
   "source": [
    "## 6. Write a Python to find all duplicate characters in string?"
   ]
  },
  {
   "cell_type": "code",
   "execution_count": 12,
   "metadata": {},
   "outputs": [
    {
     "name": "stdout",
     "output_type": "stream",
     "text": [
      "w\n",
      "o\n",
      "r\n",
      "d\n"
     ]
    }
   ],
   "source": [
    "#Create dictionary using counter method which will have strings as key and their frequencies as value\n",
    "from collections import Counter\n",
    "\n",
    "x =\"wordforword\"\n",
    "WC= Counter(x)  #counts (w=2,o=3,r=3,d=2,f=1)\n",
    "\n",
    "for key, value in WC.items(): #(key=w,value =2) (key =o,value =3)and so on\n",
    "    if (value > 1):  #(2>1),(3>1) and so on\n",
    "        print(key)\n",
    " "
   ]
  },
  {
   "cell_type": "markdown",
   "metadata": {},
   "source": [
    "## 7. Write a Python Program to check if a string contains any special character?"
   ]
  },
  {
   "cell_type": "code",
   "execution_count": 13,
   "metadata": {},
   "outputs": [
    {
     "name": "stdout",
     "output_type": "stream",
     "text": [
      "Enter string:$und@y!\n",
      "String contain any special characters.\n"
     ]
    }
   ],
   "source": [
    "import re\n",
    "l = input(\"Enter string:\")\n",
    "regex= re.compile('[@_!#$%^&*()<>?/|}{~:]')\n",
    "    \n",
    "if regex.search(l)==None:\n",
    "    print(\"The string does not contain any special characters.\")                      \n",
    "                          \n",
    "else:\n",
    "    print('String contain any special characters.')\n"
   ]
  }
 ],
 "metadata": {
  "kernelspec": {
   "display_name": "Python 3",
   "language": "python",
   "name": "python3"
  },
  "language_info": {
   "codemirror_mode": {
    "name": "ipython",
    "version": 3
   },
   "file_extension": ".py",
   "mimetype": "text/x-python",
   "name": "python",
   "nbconvert_exporter": "python",
   "pygments_lexer": "ipython3",
   "version": "3.8.3"
  }
 },
 "nbformat": 4,
 "nbformat_minor": 4
}
