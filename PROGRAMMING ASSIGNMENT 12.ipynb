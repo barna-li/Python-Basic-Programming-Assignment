{
 "cells": [
  {
   "cell_type": "markdown",
   "metadata": {},
   "source": [
    "## 1. Write a Python program to Extract Unique values dictionary values?"
   ]
  },
  {
   "cell_type": "code",
   "execution_count": 2,
   "metadata": {},
   "outputs": [
    {
     "name": "stdout",
     "output_type": "stream",
     "text": [
      "Original dictonary: {'a': [5, 7, 9], 'b': [3, 8, 1], 'c': [2, 4, 6]}\n",
      "The unique list value is: [1, 2, 3, 4, 5, 6, 7, 8, 9]\n"
     ]
    }
   ],
   "source": [
    "#The chain function takes a series of iterables & groups all the iterables together and produces a single iterable as output.\n",
    "from itertools import chain\n",
    "\n",
    "di = {\"a\":[5,7,9],\n",
    "      \"b\":[3,8,1],\n",
    "      \"c\":[2,4,6]}\n",
    "\n",
    "# Using sorted() + chain () + values() to extract unique dictionary values. \n",
    "i = list(sorted(chain(*di.values())))\n",
    "\n",
    "print(\"Original dictonary:\",di)\n",
    "print(\"The unique list value is:\",i)"
   ]
  },
  {
   "cell_type": "markdown",
   "metadata": {},
   "source": [
    "## 2. Write a Python program to find the sum of all items in a dictionary?"
   ]
  },
  {
   "cell_type": "code",
   "execution_count": 3,
   "metadata": {},
   "outputs": [
    {
     "data": {
      "text/plain": [
       "900"
      ]
     },
     "execution_count": 3,
     "metadata": {},
     "output_type": "execute_result"
    }
   ],
   "source": [
    "d ={\"first\":200,\"second\":400,\"third\":300}\n",
    "def val():\n",
    "    return sum(d.values())\n",
    "\n",
    "val()"
   ]
  },
  {
   "cell_type": "markdown",
   "metadata": {},
   "source": [
    "## 3. Write a Python program to Merging two Dictionaries?"
   ]
  },
  {
   "cell_type": "code",
   "execution_count": 4,
   "metadata": {},
   "outputs": [
    {
     "name": "stdout",
     "output_type": "stream",
     "text": [
      "{'color': 'pink', 'city': 'Jaipur', 'temp': '32 degree celsius', 'place': 'beautiful', 'state': 'Rajasthan'}\n"
     ]
    }
   ],
   "source": [
    "#Keywords operator aka unpacking operator (**) also allows to merge two or more dictionaries.\n",
    "a ={\"color\":\"pink\",\"city\":\"Jaipur\",\"temp\":\"32 degree celsius\"}\n",
    "b ={\"place\":\"beautiful\",\"state\":\"Rajasthan\"}\n",
    "c= {**a,**b}\n",
    "print(c)\n"
   ]
  },
  {
   "cell_type": "markdown",
   "metadata": {},
   "source": [
    "## 4. Write a Python program to convert key-values list to flat dictionary?"
   ]
  },
  {
   "cell_type": "code",
   "execution_count": 5,
   "metadata": {},
   "outputs": [
    {
     "name": "stdout",
     "output_type": "stream",
     "text": [
      "{1: 'Jan', 2: 'Feb', 3: 'March', 4: 'April', 5: 'May'}\n"
     ]
    }
   ],
   "source": [
    "from itertools import product\n",
    "\n",
    "info ={'days':[1,2,3,4,5],'months':['Jan','Feb','March','April','May']}\n",
    "result = dict(zip(info['days'],info['months']))\n",
    "print(result)"
   ]
  },
  {
   "cell_type": "markdown",
   "metadata": {},
   "source": [
    "## 5. Write a Python program to insertion at the beginning in OrderedDict?"
   ]
  },
  {
   "cell_type": "code",
   "execution_count": 6,
   "metadata": {},
   "outputs": [
    {
     "name": "stdout",
     "output_type": "stream",
     "text": [
      "Inserted second list in the beginning looks like this: OrderedDict([('ape', '1'), ('bat', 2), ('cat', '3'), ('dog', 4)])\n"
     ]
    }
   ],
   "source": [
    "from collections import OrderedDict\n",
    "\n",
    "first = OrderedDict([('cat','3'),('dog',4)])\n",
    "second = OrderedDict([('ape','1'),('bat',2)])\n",
    "\n",
    "combine = OrderedDict(list(second.items())+ list (first.items()))\n",
    "print(\"Inserted second list in the beginning looks like this:\",combine)"
   ]
  },
  {
   "cell_type": "markdown",
   "metadata": {},
   "source": [
    "## 6. Write a Python program to check order of character in string using OrderedDict()?"
   ]
  },
  {
   "cell_type": "code",
   "execution_count": 12,
   "metadata": {},
   "outputs": [
    {
     "name": "stdout",
     "output_type": "stream",
     "text": [
      "The order of pattern is correct-True\n"
     ]
    }
   ],
   "source": [
    "# OrderedDict is used tyo remember the order of the items in the dictionary.\n",
    "#Fromkeys return the a dictionary with the specified keys and value.\n",
    "#Traversing just means to process every character in a string, usually from left end to right end.\n",
    "\n",
    "from collections import OrderedDict\n",
    "\n",
    "def check_order(input, pattern):\n",
    "    k = OrderedDict.fromkeys(input) #create empty dictionary which will take in only the keys\n",
    "    pattern_length = 0    #length of pattern is intialized to 0\n",
    "    \n",
    "    \n",
    "    for key,value in k.items():  # if key is equal to the pattern, length of pattern is incremented \n",
    "        if (key == pattern[pattern_length]):\n",
    "            pattern_length = pattern_length + 1\n",
    "\n",
    "        if(pattern_length == (len(pattern))):  # If length of pattern is same as current length,means order is True, else False.\n",
    "            return 'The order of pattern is correct-True'\n",
    "\n",
    "# if we come out from for loop that means order was mismatched         \n",
    "    return 'The order of pattern is incorrect-False'\n",
    "\n",
    "input = 'Python card'\n",
    "pattern = 'ard'\n",
    "print(check_order(input,pattern))"
   ]
  },
  {
   "cell_type": "markdown",
   "metadata": {},
   "source": [
    "## 7. Write a Python program to sort Python Dictionaries by Key or Value?"
   ]
  },
  {
   "cell_type": "code",
   "execution_count": 8,
   "metadata": {},
   "outputs": [
    {
     "name": "stdout",
     "output_type": "stream",
     "text": [
      "Sorted dictionary by Keys: [('key_value[1]', 2), ('key_value[2]', 56), ('key_value[3]', 12), ('key_value[4]', 24)]\n"
     ]
    }
   ],
   "source": [
    "sequence = {\"key_value[2]\" :56 ,\"key_value[1]\":2,\"key_value[3]\" :12,\"key_value[4]\": 24}\n",
    "c = sorted(sequence.items())\n",
    "print(\"Sorted dictionary by Keys:\",c)\n"
   ]
  }
 ],
 "metadata": {
  "kernelspec": {
   "display_name": "Python 3",
   "language": "python",
   "name": "python3"
  },
  "language_info": {
   "codemirror_mode": {
    "name": "ipython",
    "version": 3
   },
   "file_extension": ".py",
   "mimetype": "text/x-python",
   "name": "python",
   "nbconvert_exporter": "python",
   "pygments_lexer": "ipython3",
   "version": "3.8.3"
  }
 },
 "nbformat": 4,
 "nbformat_minor": 4
}
