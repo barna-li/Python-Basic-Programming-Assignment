{
 "cells": [
  {
   "cell_type": "markdown",
   "id": "1609aafb",
   "metadata": {},
   "source": [
    "Q1 = Please write a program using generator to print the numbers which can be divisible by 5 and\n",
    "7 between 0 and n in comma separated form while n is input by console"
   ]
  },
  {
   "cell_type": "code",
   "execution_count": 1,
   "id": "ed61861c",
   "metadata": {},
   "outputs": [
    {
     "name": "stdout",
     "output_type": "stream",
     "text": [
      "Enter the value of n here:50\n",
      "The number which is divisible by 5 and 7 are:- \n",
      "0,35\n"
     ]
    }
   ],
   "source": [
    "def NumGen(n):\n",
    "    num = list(range(0,n+1))\n",
    "    for i in num:\n",
    "        if i % 5 == 0 and i % 7 == 0:\n",
    "            yield i\n",
    "        else:\n",
    "            pass\n",
    "\n",
    "\n",
    "if __name__ == \"__main__\":\n",
    "    n = int(input(\"Enter the value of n here:\"))\n",
    "    print(\"The number which is divisible by 5 and 7 are:- \")\n",
    "    l = []\n",
    "    for j in NumGen(n):\n",
    "        l.append(str(j))\n",
    "    print(','.join(l))"
   ]
  },
  {
   "cell_type": "markdown",
   "id": "f3fe204e",
   "metadata": {},
   "source": [
    "Q2 = Please write a program using generator to print the even numbers between 0 and n in comma\n",
    "separated form while n is input by console"
   ]
  },
  {
   "cell_type": "code",
   "execution_count": 2,
   "id": "6537577c",
   "metadata": {},
   "outputs": [
    {
     "name": "stdout",
     "output_type": "stream",
     "text": [
      "Enter The Value Of N Here:50\n",
      "The Even Num Between 0 and 50\n",
      "0,2,4,6,8,10,12,14,16,18,20,22,24,26,28,30,32,34,36,38,40,42,44,46,48,50\n"
     ]
    }
   ],
   "source": [
    "def EvenNumGen(n):\n",
    "    num = list(range(0,n+1))\n",
    "    for i in num:\n",
    "        if i%2 == 0:\n",
    "            yield i\n",
    "        else:\n",
    "            pass\n",
    "\n",
    "if __name__==\"__main__\":\n",
    "    n = int(input(\"Enter The Value Of N Here:\"))\n",
    "    print(\"The Even Num Between 0 and {}\".format(n))\n",
    "    l =[]\n",
    "    for j in EvenNumGen(n):\n",
    "        l.append(str(j))\n",
    "    print(','.join(l))"
   ]
  },
  {
   "cell_type": "markdown",
   "id": "68ab96c5",
   "metadata": {},
   "source": [
    "Q3 = Please write a program using list comprehension to print the Fibonacci Sequence in comma\n",
    "separated form with a given n input by console"
   ]
  },
  {
   "cell_type": "code",
   "execution_count": 1,
   "id": "62b61163",
   "metadata": {},
   "outputs": [
    {
     "name": "stdout",
     "output_type": "stream",
     "text": [
      "Enter a input:20\n",
      "1,1,2,3,5,8,13,21,34,55,89,144,233,377,610,987,1597,2584,4181,6765,10946\n"
     ]
    }
   ],
   "source": [
    "def gen_fib(n):\n",
    "    a = 1\n",
    "    b = 1\n",
    "    output = []\n",
    "    for i in range(n+1):\n",
    "        output.append(a)\n",
    "        a ,b = b, a+b\n",
    "    return output\n",
    "    \n",
    "n = int(input(\"Enter a input:\") )\n",
    "\n",
    "values = [str(x) for x in gen_fib(n)] \n",
    "print(','.join(values))"
   ]
  },
  {
   "cell_type": "markdown",
   "id": "aae60f56",
   "metadata": {},
   "source": [
    "Q4 = Assuming that we have some email addresses in the &quot;username@companyname.com&quot; format,\n",
    "please write program to print the user name of a given email address. Both user names and\n",
    "company names are composed of letters only."
   ]
  },
  {
   "cell_type": "code",
   "execution_count": 3,
   "id": "8dcb646b",
   "metadata": {},
   "outputs": [
    {
     "name": "stdout",
     "output_type": "stream",
     "text": [
      "Enter your email address here:tarunchoudhary744@gmail.com\n",
      "Your Name Is tarunchoudhary744\n"
     ]
    }
   ],
   "source": [
    "import re\n",
    "\n",
    "def check_email(email_address):\n",
    "    check = \"(\\w+)@((\\w+\\.)+(com))\"\n",
    "    if re.match(check, email_address):\n",
    "        return \"Your Name Is {}\".format(re.match(check, email_address).group(1))\n",
    "    else:\n",
    "        return \"Enter A Vailed Email Address\"\n",
    "\n",
    "if __name__ == \"__main__\":\n",
    "    email_address = input(\"Enter your email address here:\")\n",
    "    print(check_email(email_address))"
   ]
  },
  {
   "cell_type": "markdown",
   "id": "994ceed8",
   "metadata": {},
   "source": [
    "Q5 = Define a class named Shape and its subclass Square. The Square class has an init function\n",
    "which takes a length as argument. Both classes have a area function which can print the area\n",
    "of the shape where Shape&#39;s area is 0 by default"
   ]
  },
  {
   "cell_type": "code",
   "execution_count": 5,
   "id": "be9e18bd",
   "metadata": {},
   "outputs": [
    {
     "name": "stdout",
     "output_type": "stream",
     "text": [
      "0\n"
     ]
    }
   ],
   "source": [
    "class Shape():\n",
    "    def __init__(self):\n",
    "        pass\n",
    "\n",
    "    def area(self):\n",
    "        return 0\n",
    "\n",
    "class Square(Shape):\n",
    "    def __init__(self,length = 0):\n",
    "        Shape.__init__(self)\n",
    "        self.length = length\n",
    "\n",
    "    def area(self):\n",
    "        return self.length*self.length\n",
    "    \n",
    "print(Square().area()) "
   ]
  },
  {
   "cell_type": "code",
   "execution_count": null,
   "id": "745e4e21",
   "metadata": {},
   "outputs": [],
   "source": []
  }
 ],
 "metadata": {
  "kernelspec": {
   "display_name": "Python 3",
   "language": "python",
   "name": "python3"
  },
  "language_info": {
   "codemirror_mode": {
    "name": "ipython",
    "version": 3
   },
   "file_extension": ".py",
   "mimetype": "text/x-python",
   "name": "python",
   "nbconvert_exporter": "python",
   "pygments_lexer": "ipython3",
   "version": "3.6.13"
  }
 },
 "nbformat": 4,
 "nbformat_minor": 5
}
